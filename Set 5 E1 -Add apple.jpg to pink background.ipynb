{
 "cells": [
  {
   "cell_type": "code",
   "execution_count": null,
   "id": "3c8e85da",
   "metadata": {},
   "outputs": [],
   "source": [
    "# multi box for drag and drop without class\n",
    "import cv2\n",
    "from cvzone.HandTrackingModule import HandDetector\n",
    "\n",
    "\n",
    "cap = cv2.VideoCapture(0)\n",
    "cap.set(3, 640)\n",
    "cap.set(4, 480)\n",
    "\n",
    "#1st drag object\n",
    "colorR = (255,0,255)\n",
    "\n",
    "while (cap.isOpened()):\n",
    "    success, img = cap.read()\n",
    "    img=cv2.flip(img,1)\n",
    "           \n",
    "    #display 1st drag object\n",
    "    cv2.rectangle(img,(50,50),(150,150),colorR,cv2.FILLED)\n",
    "    \n",
    "    \n",
    "    #attach apple image to 1st drag object\n",
    "    s_img1 = cv2.imread(\"apple.jpg\")\n",
    "    x_offset=50 +5\n",
    "    y_offset=50 +5\n",
    "    img[y_offset:y_offset+s_img1.shape[0], x_offset:x_offset+s_img1.shape[1]] = s_img1\n",
    "    \n",
    "                                \n",
    "    cv2.imshow(\"Webcam\", img)\n",
    "    if cv2.waitKey(1) & 0xFF == ord('q'):\n",
    "        break\n",
    "\n",
    "cap.release()\n",
    "cv2.destroyAllWindows()"
   ]
  }
 ],
 "metadata": {
  "kernelspec": {
   "display_name": "Python 3",
   "language": "python",
   "name": "python3"
  },
  "language_info": {
   "codemirror_mode": {
    "name": "ipython",
    "version": 3
   },
   "file_extension": ".py",
   "mimetype": "text/x-python",
   "name": "python",
   "nbconvert_exporter": "python",
   "pygments_lexer": "ipython3",
   "version": "3.8.8"
  }
 },
 "nbformat": 4,
 "nbformat_minor": 5
}
