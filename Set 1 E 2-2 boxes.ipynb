{
 "cells": [
  {
   "cell_type": "code",
   "execution_count": null,
   "id": "c2681d90",
   "metadata": {},
   "outputs": [],
   "source": [
    "import cv2\n",
    "from cvzone.HandTrackingModule import HandDetector\n",
    "\n",
    "cap = cv2.VideoCapture(0)\n",
    "cap.set(3,1280)\n",
    "cap.set(4,720)\n",
    "\n",
    "detector = HandDetector(detectionCon=0.8, maxHands=2)\n",
    "\n",
    "ColorR=(0,255,255)\n",
    "ColorL=(255,0,0)\n",
    "\n",
    "\n",
    "\n",
    "while True:\n",
    "    \n",
    "    success, img =cap.read()\n",
    "    hands, img = detector.findHands(img)\n",
    "    \n",
    "    cv2.rectangle(img, (1000,420),(1200,620), ColorR,cv2.FILLED)\n",
    "    cv2.rectangle(img, (100,50),(300,250), ColorL,cv2.FILLED)\n",
    "    \n",
    "    cv2.imshow(\"Camera\", img)\n",
    "    if cv2.waitKey(1) & 0xFF == ord('q'):\n",
    "        break\n",
    "\n",
    "cap.release()\n",
    "cv2.destroyAllWindows()"
   ]
  },
  {
   "cell_type": "code",
   "execution_count": null,
   "id": "82b6b440",
   "metadata": {},
   "outputs": [],
   "source": []
  }
 ],
 "metadata": {
  "kernelspec": {
   "display_name": "Python 3",
   "language": "python",
   "name": "python3"
  },
  "language_info": {
   "codemirror_mode": {
    "name": "ipython",
    "version": 3
   },
   "file_extension": ".py",
   "mimetype": "text/x-python",
   "name": "python",
   "nbconvert_exporter": "python",
   "pygments_lexer": "ipython3",
   "version": "3.8.8"
  }
 },
 "nbformat": 4,
 "nbformat_minor": 5
}
