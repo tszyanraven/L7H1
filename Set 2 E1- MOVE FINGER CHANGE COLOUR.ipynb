{
 "cells": [
  {
   "cell_type": "code",
   "execution_count": null,
   "id": "783b060b",
   "metadata": {},
   "outputs": [],
   "source": [
    "import cv2\n",
    "from cvzone.HandTrackingModule import HandDetector\n",
    "\n",
    "cap=cv2.VideoCapture(0)\n",
    "cap.set(3,1280)\n",
    "cap.set(4,720)\n",
    "\n",
    "detector=HandDetector(detectionCon=0.8, maxHands=2)\n",
    "colorR=(255,0,255)\n",
    "\n",
    "while True:\n",
    "    success, img=cap.read()\n",
    "    img=cv2.flip(img,1)\n",
    "    hands, img=detector.findHands(img)\n",
    "    \n",
    "    if hands:\n",
    "        hand1=hands[0]\n",
    "        lmList = hand1[\"lmList\"]\n",
    "        \n",
    "        if lmList:\n",
    "            cursor=lmList[8]\n",
    "            if 100<cursor[0]<300 and 100<cursor[1]<300:\n",
    "                colorR=255,0,0\n",
    "            \n",
    "            else:\n",
    "                colorR=(255,0,255)\n",
    "                \n",
    "    cv2.rectangle(img,(100,100),(300,300),colorR,cv2.FILLED)\n",
    "    \n",
    "    cv2.imshow(\"Image\",img)\n",
    "    cv2.waitKey(1)"
   ]
  },
  {
   "cell_type": "code",
   "execution_count": null,
   "id": "541b6c62",
   "metadata": {},
   "outputs": [],
   "source": []
  }
 ],
 "metadata": {
  "kernelspec": {
   "display_name": "Python 3",
   "language": "python",
   "name": "python3"
  },
  "language_info": {
   "codemirror_mode": {
    "name": "ipython",
    "version": 3
   },
   "file_extension": ".py",
   "mimetype": "text/x-python",
   "name": "python",
   "nbconvert_exporter": "python",
   "pygments_lexer": "ipython3",
   "version": "3.8.8"
  }
 },
 "nbformat": 4,
 "nbformat_minor": 5
}
