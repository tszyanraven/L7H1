{
 "cells": [
  {
   "cell_type": "code",
   "execution_count": null,
   "id": "af419de4",
   "metadata": {},
   "outputs": [],
   "source": [
    "import cv2\n",
    "from cvzone.HandTrackingModule import HandDetector\n",
    "\n",
    "cap = cv2.VideoCapture(0)\n",
    "cap.set(3,1280)\n",
    "cap.set(4,720)\n",
    "\n",
    "detector = HandDetector(detectionCon=0.8, maxHands=2)\n",
    "\n",
    "ColorR=(255,0,255)\n",
    "\n",
    "while True:\n",
    "    \n",
    "    success, img =cap.read()\n",
    "    hands, img = detector.findHands(img)\n",
    "    \n",
    "    cv2.rectangle(img, (600,300),(800,500), ColorR,cv2.FILLED)\n",
    "    \n",
    "    cv2.imshow(\"Camera\", img)\n",
    "    if cv2.waitKey(1) & 0xFF == ord('q'):\n",
    "        break\n",
    "\n",
    "cap.release()\n",
    "cv2.destroyAllwindows()\n"
   ]
  },
  {
   "cell_type": "code",
   "execution_count": 1,
   "id": "847a51f4",
   "metadata": {},
   "outputs": [
    {
     "name": "stdout",
     "output_type": "stream",
     "text": [
      "Requirement already satisfied: mediapipe in /Users/kayyongdrkhoo/opt/anaconda3/lib/python3.8/site-packages (0.8.9)\n",
      "Requirement already satisfied: numpy in /Users/kayyongdrkhoo/opt/anaconda3/lib/python3.8/site-packages (from mediapipe) (1.20.1)\n",
      "Requirement already satisfied: matplotlib in /Users/kayyongdrkhoo/opt/anaconda3/lib/python3.8/site-packages (from mediapipe) (3.3.4)\n",
      "Requirement already satisfied: protobuf>=3.11.4 in /Users/kayyongdrkhoo/opt/anaconda3/lib/python3.8/site-packages (from mediapipe) (3.19.1)\n",
      "Requirement already satisfied: attrs>=19.1.0 in /Users/kayyongdrkhoo/opt/anaconda3/lib/python3.8/site-packages (from mediapipe) (20.3.0)\n",
      "Requirement already satisfied: absl-py in /Users/kayyongdrkhoo/opt/anaconda3/lib/python3.8/site-packages (from mediapipe) (1.0.0)\n",
      "Requirement already satisfied: wheel in /Users/kayyongdrkhoo/opt/anaconda3/lib/python3.8/site-packages (from mediapipe) (0.36.2)\n",
      "Requirement already satisfied: opencv-contrib-python in /Users/kayyongdrkhoo/opt/anaconda3/lib/python3.8/site-packages (from mediapipe) (4.5.4.58)\n",
      "Requirement already satisfied: six in /Users/kayyongdrkhoo/opt/anaconda3/lib/python3.8/site-packages (from mediapipe) (1.15.0)\n",
      "Requirement already satisfied: cycler>=0.10 in /Users/kayyongdrkhoo/opt/anaconda3/lib/python3.8/site-packages (from matplotlib->mediapipe) (0.10.0)\n",
      "Requirement already satisfied: python-dateutil>=2.1 in /Users/kayyongdrkhoo/opt/anaconda3/lib/python3.8/site-packages (from matplotlib->mediapipe) (2.8.1)\n",
      "Requirement already satisfied: kiwisolver>=1.0.1 in /Users/kayyongdrkhoo/opt/anaconda3/lib/python3.8/site-packages (from matplotlib->mediapipe) (1.3.1)\n",
      "Requirement already satisfied: pillow>=6.2.0 in /Users/kayyongdrkhoo/opt/anaconda3/lib/python3.8/site-packages (from matplotlib->mediapipe) (8.2.0)\n",
      "Requirement already satisfied: pyparsing!=2.0.4,!=2.1.2,!=2.1.6,>=2.0.3 in /Users/kayyongdrkhoo/opt/anaconda3/lib/python3.8/site-packages (from matplotlib->mediapipe) (2.4.7)\n",
      "Note: you may need to restart the kernel to use updated packages.\n"
     ]
    }
   ],
   "source": [
    "pip install mediapipe"
   ]
  },
  {
   "cell_type": "code",
   "execution_count": null,
   "id": "486cf16a",
   "metadata": {},
   "outputs": [],
   "source": [
    "pip install cvzone"
   ]
  }
 ],
 "metadata": {
  "kernelspec": {
   "display_name": "Python 3",
   "language": "python",
   "name": "python3"
  },
  "language_info": {
   "codemirror_mode": {
    "name": "ipython",
    "version": 3
   },
   "file_extension": ".py",
   "mimetype": "text/x-python",
   "name": "python",
   "nbconvert_exporter": "python",
   "pygments_lexer": "ipython3",
   "version": "3.8.8"
  }
 },
 "nbformat": 4,
 "nbformat_minor": 5
}
